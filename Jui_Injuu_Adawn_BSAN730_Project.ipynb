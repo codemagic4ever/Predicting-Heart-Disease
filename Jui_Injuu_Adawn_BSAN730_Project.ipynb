{
  "nbformat": 4,
  "nbformat_minor": 0,
  "metadata": {
    "colab": {
      "provenance": []
    },
    "kernelspec": {
      "name": "python3",
      "display_name": "Python 3"
    },
    "language_info": {
      "name": "python"
    }
  },
  "cells": [
    {
      "cell_type": "markdown",
      "source": [
        "Team: Jui Nagarkar, Injuu Jyenis, & Adawn Symonette"
      ],
      "metadata": {
        "id": "7Bq78k6vdjVA"
      }
    },
    {
      "cell_type": "markdown",
      "source": [
        "**BINARY CLASSIFICATION CONFORMAL PREDICTION:**"
      ],
      "metadata": {
        "id": "rLgYGfl5ZTiJ"
      }
    },
    {
      "cell_type": "code",
      "execution_count": null,
      "metadata": {
        "colab": {
          "base_uri": "https://localhost:8080/"
        },
        "id": "_TFqsTPHs9_A",
        "outputId": "953ed020-0255-4b34-ba7f-e25c896a1f6b"
      },
      "outputs": [
        {
          "output_type": "stream",
          "name": "stdout",
          "text": [
            "Collecting mapie\n",
            "  Downloading MAPIE-0.8.3-py3-none-any.whl (141 kB)\n",
            "\u001b[2K     \u001b[90m━━━━━━━━━━━━━━━━━━━━━━━━━━━━━━━━━━━━━━━━\u001b[0m \u001b[32m141.1/141.1 kB\u001b[0m \u001b[31m1.5 MB/s\u001b[0m eta \u001b[36m0:00:00\u001b[0m\n",
            "\u001b[?25hRequirement already satisfied: scikit-learn in /usr/local/lib/python3.10/dist-packages (from mapie) (1.2.2)\n",
            "Requirement already satisfied: scipy in /usr/local/lib/python3.10/dist-packages (from mapie) (1.11.4)\n",
            "Requirement already satisfied: numpy>=1.21 in /usr/local/lib/python3.10/dist-packages (from mapie) (1.25.2)\n",
            "Requirement already satisfied: packaging in /usr/local/lib/python3.10/dist-packages (from mapie) (24.0)\n",
            "Requirement already satisfied: joblib>=1.1.1 in /usr/local/lib/python3.10/dist-packages (from scikit-learn->mapie) (1.4.0)\n",
            "Requirement already satisfied: threadpoolctl>=2.0.0 in /usr/local/lib/python3.10/dist-packages (from scikit-learn->mapie) (3.4.0)\n",
            "Installing collected packages: mapie\n",
            "Successfully installed mapie-0.8.3\n"
          ]
        }
      ],
      "source": [
        "import pandas as pd\n",
        "import numpy as np\n",
        "from matplotlib import pyplot as plt\n",
        "import seaborn as sns\n",
        "from sklearn.model_selection import train_test_split\n",
        "from sklearn.preprocessing import LabelEncoder\n",
        "from sklearn.metrics import confusion_matrix\n",
        "!pip install mapie\n",
        "from mapie.classification import MapieClassifier\n",
        "from mapie.metrics import classification_coverage_score\n",
        "from mapie.metrics import classification_mean_width_score"
      ]
    },
    {
      "cell_type": "code",
      "source": [
        "heart = pd.read_csv('heart.csv')\n",
        "heart.shape"
      ],
      "metadata": {
        "colab": {
          "base_uri": "https://localhost:8080/"
        },
        "id": "TYLTyhp5AudY",
        "outputId": "e3f79b83-a455-4f50-8647-3a6c48d82d24"
      },
      "execution_count": null,
      "outputs": [
        {
          "output_type": "execute_result",
          "data": {
            "text/plain": [
              "(918, 12)"
            ]
          },
          "metadata": {},
          "execution_count": 2
        }
      ]
    },
    {
      "cell_type": "code",
      "source": [
        "print(heart.keys())"
      ],
      "metadata": {
        "colab": {
          "base_uri": "https://localhost:8080/"
        },
        "id": "E7cUim-6A79z",
        "outputId": "c6ddbae3-ffe9-4725-8bde-cb54742ee00c"
      },
      "execution_count": null,
      "outputs": [
        {
          "output_type": "stream",
          "name": "stdout",
          "text": [
            "Index(['Age', 'Sex', 'ChestPainType', 'RestingBP', 'Cholesterol', 'FastingBS',\n",
            "       'RestingECG', 'MaxHR', 'ExerciseAngina', 'Oldpeak', 'ST_Slope',\n",
            "       'HeartDisease'],\n",
            "      dtype='object')\n"
          ]
        }
      ]
    },
    {
      "cell_type": "code",
      "source": [
        "heart[\"HeartDisease\"].unique()"
      ],
      "metadata": {
        "colab": {
          "base_uri": "https://localhost:8080/"
        },
        "id": "-6pnZKxsBRX7",
        "outputId": "c49815be-ec95-4461-9052-ccb4f46d9c93"
      },
      "execution_count": null,
      "outputs": [
        {
          "output_type": "execute_result",
          "data": {
            "text/plain": [
              "array([0, 1])"
            ]
          },
          "metadata": {},
          "execution_count": 4
        }
      ]
    },
    {
      "cell_type": "code",
      "source": [
        "heart.groupby('HeartDisease').size().plot(kind='barh', color=sns.palettes.mpl_palette('Dark2'))\n",
        "plt.gca().spines[['top', 'right',]].set_visible(False)"
      ],
      "metadata": {
        "colab": {
          "base_uri": "https://localhost:8080/",
          "height": 430
        },
        "id": "645RkBZ3BWFB",
        "outputId": "8af1b654-2334-4c10-a094-f88d0af3dcf7"
      },
      "execution_count": null,
      "outputs": [
        {
          "output_type": "display_data",
          "data": {
            "text/plain": [
              "<Figure size 640x480 with 1 Axes>"
            ],
            "image/png": "[encoded data removed]"
          },
          "metadata": {}
        }
      ]
    },
    {
      "cell_type": "code",
      "source": [
        "from sklearn.ensemble import RandomForestClassifier\n",
        "\n",
        "#Labels are characters but should be integers for sklearn\n",
        "le = LabelEncoder()\n",
        "heart[\"HeartDisease\"] = le.fit_transform(heart[\"HeartDisease\"])\n",
        "\n",
        "heart_categorical = heart.select_dtypes(include=['object'])\n",
        "heart[heart_categorical.columns] = heart_categorical.apply(le.fit_transform)\n",
        "\n",
        "#Split data into classification target and features\n",
        "y = heart[\"HeartDisease\"]\n",
        "X = heart.drop(\"HeartDisease\", axis = 1)"
      ],
      "metadata": {
        "id": "ElzMH5ofBoG6"
      },
      "execution_count": null,
      "outputs": []
    },
    {
      "cell_type": "code",
      "source": [
        "#Split of training data\n",
        "X_train, X_rest1, y_train, y_rest1 = train_test_split(X,y,train_size=0.7,random_state=2)"
      ],
      "metadata": {
        "id": "y3CaxuUEPIU3"
      },
      "execution_count": null,
      "outputs": []
    },
    {
      "cell_type": "code",
      "source": [
        "#From the remaining data, split of test data\n",
        "X_test, X_rest2, y_test, y_rest2 = train_test_split(X_rest1,y_rest1,train_size=100,random_state=42)\n",
        "#Split remaining data into calibration and \"new\" data\n",
        "X_calib, X_new, y_calib, y_new = train_test_split(X_rest2,y_rest2,train_size=100,random_state=42)\n",
        "# creating a RF classifier\n",
        "clf = RandomForestClassifier(n_estimators = 100)\n",
        "model = clf.fit(X_train, y_train)"
      ],
      "metadata": {
        "id": "ixspdveLQYDH"
      },
      "execution_count": null,
      "outputs": []
    },
    {
      "cell_type": "code",
      "source": [
        "#Check model accuracy on the test data\n",
        "y_pred = model.predict(X_test)\n",
        "print(\"Accuracy:\", (y_pred == y_test).mean())"
      ],
      "metadata": {
        "colab": {
          "base_uri": "https://localhost:8080/"
        },
        "id": "Pj0Mrh7dRTpj",
        "outputId": "0216cd37-6955-40e9-870c-42c049357a93"
      },
      "execution_count": null,
      "outputs": [
        {
          "output_type": "stream",
          "name": "stdout",
          "text": [
            "Accuracy: 0.84\n"
          ]
        }
      ]
    },
    {
      "cell_type": "code",
      "source": [
        "unique_classes = sorted(set(y_test) | set(y_pred))\n",
        "\n",
        "#Create the confusion matrix\n",
        "cm = confusion_matrix(y_test,y_pred, labels=unique_classes)\n",
        "print(pd.DataFrame(cm,index=unique_classes,columns=unique_classes))"
      ],
      "metadata": {
        "id": "6mqxbdr1RYf8",
        "colab": {
          "base_uri": "https://localhost:8080/"
        },
        "outputId": "d79641f5-b0d2-48f6-90f1-adbb320d223a"
      },
      "execution_count": null,
      "outputs": [
        {
          "output_type": "stream",
          "name": "stdout",
          "text": [
            "    0   1\n",
            "0  43  10\n",
            "1   6  41\n"
          ]
        }
      ]
    },
    {
      "cell_type": "code",
      "source": [
        "cp = MapieClassifier(estimator=model,cv=\"prefit\",method=\"score\")\n",
        "cp.fit(X_calib,y_calib)"
      ],
      "metadata": {
        "id": "XMYVttbKRyu9",
        "colab": {
          "base_uri": "https://localhost:8080/",
          "height": 116
        },
        "outputId": "034a6d76-d18b-44f3-ec56-ab0063c249b4"
      },
      "execution_count": null,
      "outputs": [
        {
          "output_type": "execute_result",
          "data": {
            "text/plain": [
              "MapieClassifier(cv='prefit', estimator=RandomForestClassifier(), method='score')"
            ],
            "text/html": [
              "<style>#sk-container-id-1 {color: black;background-color: white;}#sk-container-id-1 pre{padding: 0;}#sk-container-id-1 div.sk-toggleable {background-color: white;}#sk-container-id-1 label.sk-toggleable__label {cursor: pointer;display: block;width: 100%;margin-bottom: 0;padding: 0.3em;box-sizing: border-box;text-align: center;}#sk-container-id-1 label.sk-toggleable__label-arrow:before {content: \"▸\";float: left;margin-right: 0.25em;color: #696969;}#sk-container-id-1 label.sk-toggleable__label-arrow:hover:before {color: black;}#sk-container-id-1 div.sk-estimator:hover label.sk-toggleable__label-arrow:before {color: black;}#sk-container-id-1 div.sk-toggleable__content {max-height: 0;max-width: 0;overflow: hidden;text-align: left;background-color: #f0f8ff;}#sk-container-id-1 div.sk-toggleable__content pre {margin: 0.2em;color: black;border-radius: 0.25em;background-color: #f0f8ff;}#sk-container-id-1 input.sk-toggleable__control:checked~div.sk-toggleable__content {max-height: 200px;max-width: 100%;overflow: auto;}#sk-container-id-1 input.sk-toggleable__control:checked~label.sk-toggleable__label-arrow:before {content: \"▾\";}#sk-container-id-1 div.sk-estimator input.sk-toggleable__control:checked~label.sk-toggleable__label {background-color: #d4ebff;}#sk-container-id-1 div.sk-label input.sk-toggleable__control:checked~label.sk-toggleable__label {background-color: #d4ebff;}#sk-container-id-1 input.sk-hidden--visually {border: 0;clip: rect(1px 1px 1px 1px);clip: rect(1px, 1px, 1px, 1px);height: 1px;margin: -1px;overflow: hidden;padding: 0;position: absolute;width: 1px;}#sk-container-id-1 div.sk-estimator {font-family: monospace;background-color: #f0f8ff;border: 1px dotted black;border-radius: 0.25em;box-sizing: border-box;margin-bottom: 0.5em;}#sk-container-id-1 div.sk-estimator:hover {background-color: #d4ebff;}#sk-container-id-1 div.sk-parallel-item::after {content: \"\";width: 100%;border-bottom: 1px solid gray;flex-grow: 1;}#sk-container-id-1 div.sk-label:hover label.sk-toggleable__label {background-color: #d4ebff;}#sk-container-id-1 div.sk-serial::before {content: \"\";position: absolute;border-left: 1px solid gray;box-sizing: border-box;top: 0;bottom: 0;left: 50%;z-index: 0;}#sk-container-id-1 div.sk-serial {display: flex;flex-direction: column;align-items: center;background-color: white;padding-right: 0.2em;padding-left: 0.2em;position: relative;}#sk-container-id-1 div.sk-item {position: relative;z-index: 1;}#sk-container-id-1 div.sk-parallel {display: flex;align-items: stretch;justify-content: center;background-color: white;position: relative;}#sk-container-id-1 div.sk-item::before, #sk-container-id-1 div.sk-parallel-item::before {content: \"\";position: absolute;border-left: 1px solid gray;box-sizing: border-box;top: 0;bottom: 0;left: 50%;z-index: -1;}#sk-container-id-1 div.sk-parallel-item {display: flex;flex-direction: column;z-index: 1;position: relative;background-color: white;}#sk-container-id-1 div.sk-parallel-item:first-child::after {align-self: flex-end;width: 50%;}#sk-container-id-1 div.sk-parallel-item:last-child::after {align-self: flex-start;width: 50%;}#sk-container-id-1 div.sk-parallel-item:only-child::after {width: 0;}#sk-container-id-1 div.sk-dashed-wrapped {border: 1px dashed gray;margin: 0 0.4em 0.5em 0.4em;box-sizing: border-box;padding-bottom: 0.4em;background-color: white;}#sk-container-id-1 div.sk-label label {font-family: monospace;font-weight: bold;display: inline-block;line-height: 1.2em;}#sk-container-id-1 div.sk-label-container {text-align: center;}#sk-container-id-1 div.sk-container {/* jupyter's `normalize.less` sets `[hidden] { display: none; }` but bootstrap.min.css set `[hidden] { display: none !important; }` so we also need the `!important` here to be able to override the default hidden behavior on the sphinx rendered scikit-learn.org. See: https://github.com/scikit-learn/scikit-learn/issues/21755 */display: inline-block !important;position: relative;}#sk-container-id-1 div.sk-text-repr-fallback {display: none;}</style><div id=\"sk-container-id-1\" class=\"sk-top-container\"><div class=\"sk-text-repr-fallback\"><pre>MapieClassifier(cv=&#x27;prefit&#x27;, estimator=RandomForestClassifier(), method=&#x27;score&#x27;)</pre><b>In a Jupyter environment, please rerun this cell to show the HTML representation or trust the notebook. <br />On GitHub, the HTML representation is unable to render, please try loading this page with nbviewer.org.</b></div><div class=\"sk-container\" hidden><div class=\"sk-item sk-dashed-wrapped\"><div class=\"sk-label-container\"><div class=\"sk-label sk-toggleable\"><input class=\"sk-toggleable__control sk-hidden--visually\" id=\"sk-estimator-id-1\" type=\"checkbox\" ><label for=\"sk-estimator-id-1\" class=\"sk-toggleable__label sk-toggleable__label-arrow\">MapieClassifier</label><div class=\"sk-toggleable__content\"><pre>MapieClassifier(cv=&#x27;prefit&#x27;, estimator=RandomForestClassifier(), method=&#x27;score&#x27;)</pre></div></div></div><div class=\"sk-parallel\"><div class=\"sk-parallel-item\"><div class=\"sk-item\"><div class=\"sk-label-container\"><div class=\"sk-label sk-toggleable\"><input class=\"sk-toggleable__control sk-hidden--visually\" id=\"sk-estimator-id-2\" type=\"checkbox\" ><label for=\"sk-estimator-id-2\" class=\"sk-toggleable__label sk-toggleable__label-arrow\">estimator: RandomForestClassifier</label><div class=\"sk-toggleable__content\"><pre>RandomForestClassifier()</pre></div></div></div><div class=\"sk-serial\"><div class=\"sk-item\"><div class=\"sk-estimator sk-toggleable\"><input class=\"sk-toggleable__control sk-hidden--visually\" id=\"sk-estimator-id-3\" type=\"checkbox\" ><label for=\"sk-estimator-id-3\" class=\"sk-toggleable__label sk-toggleable__label-arrow\">RandomForestClassifier</label><div class=\"sk-toggleable__content\"><pre>RandomForestClassifier()</pre></div></div></div></div></div></div></div></div></div></div>"
            ]
          },
          "metadata": {},
          "execution_count": 11
        }
      ]
    },
    {
      "cell_type": "code",
      "source": [
        "y_pred, y_set = cp.predict(X_new,alpha = 0.05)\n",
        "y_set = np.squeeze(y_set)\n",
        "y_set_int = np.argmax(y_set, axis = 1)\n",
        "for i in range(10):\n",
        "  print(unique_classes[y_set_int[i]])"
      ],
      "metadata": {
        "id": "1D_GYulbR0fp",
        "colab": {
          "base_uri": "https://localhost:8080/"
        },
        "outputId": "e5480e49-d791-40aa-a993-a4c2c3f8e27a"
      },
      "execution_count": null,
      "outputs": [
        {
          "output_type": "stream",
          "name": "stdout",
          "text": [
            "0\n",
            "0\n",
            "0\n",
            "0\n",
            "0\n",
            "1\n",
            "0\n",
            "0\n",
            "1\n",
            "0\n"
          ]
        }
      ]
    },
    {
      "cell_type": "code",
      "source": [
        "# first count number of classes per bean\n",
        "set_sizes = y_set.sum(axis = 1)\n",
        "# use pandas to compute how often each size occurs\n",
        "print(pd.Series(set_sizes).value_counts())"
      ],
      "metadata": {
        "id": "WSC-XHACY-El",
        "colab": {
          "base_uri": "https://localhost:8080/"
        },
        "outputId": "bcc5aa00-a53d-4176-d6d9-a253b8a288ef"
      },
      "execution_count": null,
      "outputs": [
        {
          "output_type": "stream",
          "name": "stdout",
          "text": [
            "1    48\n",
            "2    28\n",
            "Name: count, dtype: int64\n"
          ]
        }
      ]
    },
    {
      "cell_type": "code",
      "source": [
        "cov = classification_coverage_score(y_new,y_set)\n",
        "setsize = classification_mean_width_score(y_set)\n",
        "print('Coverage: {:.3%}'.format(cov))\n",
        "print('Avg. set size: {:.5}'.format(setsize))"
      ],
      "metadata": {
        "id": "GqK69DtuZFMI",
        "colab": {
          "base_uri": "https://localhost:8080/"
        },
        "outputId": "73397be8-cef4-4008-d769-57ecfa8b63f8"
      },
      "execution_count": null,
      "outputs": [
        {
          "output_type": "stream",
          "name": "stdout",
          "text": [
            "Coverage: 98.684%\n",
            "Avg. set size: 1.3684\n"
          ]
        }
      ]
    },
    {
      "cell_type": "markdown",
      "source": [
        "**Logistic Regression:**"
      ],
      "metadata": {
        "id": "DUuHYZXOaaG-"
      }
    },
    {
      "cell_type": "code",
      "source": [
        "from sklearn.linear_model import LogisticRegression\n",
        "log_reg = LogisticRegression(random_state=0).fit(X_train, y_train)\n",
        "log_pred = log_reg.predict(X_test)\n",
        "print(log_pred)"
      ],
      "metadata": {
        "id": "t-wkuGrNaZZF"
      },
      "execution_count": null,
      "outputs": []
    },
    {
      "cell_type": "code",
      "source": [
        "lr_contable = confusion_matrix(y_test,log_pred,labels=[0,1])\n",
        "lr_disp = ConfusionMatrixDisplay(confusion_matrix=lr_contable,\n",
        "                             display_labels=[0,1])\n",
        "lr_disp.plot()\n",
        "\n",
        "print(\"LR Acc: {}\".format((lr_contable[0,0]+lr_contable[1,1])/np.sum(lr_contable)))"
      ],
      "metadata": {
        "id": "tky8uALtacvq"
      },
      "execution_count": null,
      "outputs": []
    }
  ]
}